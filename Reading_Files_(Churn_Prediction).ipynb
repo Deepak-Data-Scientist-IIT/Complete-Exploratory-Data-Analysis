{
  "nbformat": 4,
  "nbformat_minor": 0,
  "metadata": {
    "colab": {
      "name": "Reading Files (Churn- Prediction).ipynb",
      "provenance": [],
      "collapsed_sections": [],
      "toc_visible": true,
      "authorship_tag": "ABX9TyMlkh85md+0D6DfZdH3zHLL"
    },
    "kernelspec": {
      "name": "python3",
      "display_name": "Python 3"
    }
  },
  "cells": [
    {
      "cell_type": "markdown",
      "metadata": {
        "id": "YOOYzABAwjNY",
        "colab_type": "text"
      },
      "source": [
        "# **1  Reading Files**"
      ]
    },
    {
      "cell_type": "code",
      "metadata": {
        "id": "nu9qG48wwojh",
        "colab_type": "code",
        "colab": {}
      },
      "source": [
        "# importing libraries\n",
        "import pandas as pd"
      ],
      "execution_count": null,
      "outputs": []
    },
    {
      "cell_type": "code",
      "metadata": {
        "id": "DYT6cyEtwzcR",
        "colab_type": "code",
        "colab": {}
      },
      "source": [
        "#importing data\n",
        "data = pd.read_csv('churn_prediction.csv')"
      ],
      "execution_count": null,
      "outputs": []
    },
    {
      "cell_type": "code",
      "metadata": {
        "id": "bRtJj1CpxDIm",
        "colab_type": "code",
        "colab": {
          "base_uri": "https://localhost:8080/",
          "height": 220
        },
        "outputId": "c15e21b8-47bf-4955-862b-0eb386663f31"
      },
      "source": [
        "#first 5 instances using \"head()\" function\n",
        "data.head()"
      ],
      "execution_count": null,
      "outputs": [
        {
          "output_type": "execute_result",
          "data": {
            "text/html": [
              "<div>\n",
              "<style scoped>\n",
              "    .dataframe tbody tr th:only-of-type {\n",
              "        vertical-align: middle;\n",
              "    }\n",
              "\n",
              "    .dataframe tbody tr th {\n",
              "        vertical-align: top;\n",
              "    }\n",
              "\n",
              "    .dataframe thead th {\n",
              "        text-align: right;\n",
              "    }\n",
              "</style>\n",
              "<table border=\"1\" class=\"dataframe\">\n",
              "  <thead>\n",
              "    <tr style=\"text-align: right;\">\n",
              "      <th></th>\n",
              "      <th>customer_id</th>\n",
              "      <th>vintage</th>\n",
              "      <th>age</th>\n",
              "      <th>gender</th>\n",
              "      <th>dependents</th>\n",
              "      <th>occupation</th>\n",
              "      <th>city</th>\n",
              "      <th>customer_nw_category</th>\n",
              "      <th>branch_code</th>\n",
              "      <th>current_balance</th>\n",
              "      <th>previous_month_end_balance</th>\n",
              "      <th>average_monthly_balance_prevQ</th>\n",
              "      <th>average_monthly_balance_prevQ2</th>\n",
              "      <th>current_month_credit</th>\n",
              "      <th>previous_month_credit</th>\n",
              "      <th>current_month_debit</th>\n",
              "      <th>previous_month_debit</th>\n",
              "      <th>current_month_balance</th>\n",
              "      <th>previous_month_balance</th>\n",
              "      <th>churn</th>\n",
              "      <th>last_transaction</th>\n",
              "    </tr>\n",
              "  </thead>\n",
              "  <tbody>\n",
              "    <tr>\n",
              "      <th>0</th>\n",
              "      <td>1</td>\n",
              "      <td>2101</td>\n",
              "      <td>66</td>\n",
              "      <td>Male</td>\n",
              "      <td>0.0</td>\n",
              "      <td>self_employed</td>\n",
              "      <td>187.0</td>\n",
              "      <td>2</td>\n",
              "      <td>755</td>\n",
              "      <td>1458.71</td>\n",
              "      <td>1458.71</td>\n",
              "      <td>1458.71</td>\n",
              "      <td>1449.07</td>\n",
              "      <td>0.20</td>\n",
              "      <td>0.20</td>\n",
              "      <td>0.20</td>\n",
              "      <td>0.20</td>\n",
              "      <td>1458.71</td>\n",
              "      <td>1458.71</td>\n",
              "      <td>0</td>\n",
              "      <td>2019-05-21</td>\n",
              "    </tr>\n",
              "    <tr>\n",
              "      <th>1</th>\n",
              "      <td>2</td>\n",
              "      <td>2348</td>\n",
              "      <td>35</td>\n",
              "      <td>Male</td>\n",
              "      <td>0.0</td>\n",
              "      <td>self_employed</td>\n",
              "      <td>NaN</td>\n",
              "      <td>2</td>\n",
              "      <td>3214</td>\n",
              "      <td>5390.37</td>\n",
              "      <td>8704.66</td>\n",
              "      <td>7799.26</td>\n",
              "      <td>12419.41</td>\n",
              "      <td>0.56</td>\n",
              "      <td>0.56</td>\n",
              "      <td>5486.27</td>\n",
              "      <td>100.56</td>\n",
              "      <td>6496.78</td>\n",
              "      <td>8787.61</td>\n",
              "      <td>0</td>\n",
              "      <td>2019-11-01</td>\n",
              "    </tr>\n",
              "    <tr>\n",
              "      <th>2</th>\n",
              "      <td>4</td>\n",
              "      <td>2194</td>\n",
              "      <td>31</td>\n",
              "      <td>Male</td>\n",
              "      <td>0.0</td>\n",
              "      <td>salaried</td>\n",
              "      <td>146.0</td>\n",
              "      <td>2</td>\n",
              "      <td>41</td>\n",
              "      <td>3913.16</td>\n",
              "      <td>5815.29</td>\n",
              "      <td>4910.17</td>\n",
              "      <td>2815.94</td>\n",
              "      <td>0.61</td>\n",
              "      <td>0.61</td>\n",
              "      <td>6046.73</td>\n",
              "      <td>259.23</td>\n",
              "      <td>5006.28</td>\n",
              "      <td>5070.14</td>\n",
              "      <td>0</td>\n",
              "      <td>NaT</td>\n",
              "    </tr>\n",
              "    <tr>\n",
              "      <th>3</th>\n",
              "      <td>5</td>\n",
              "      <td>2329</td>\n",
              "      <td>90</td>\n",
              "      <td>NaN</td>\n",
              "      <td>NaN</td>\n",
              "      <td>self_employed</td>\n",
              "      <td>1020.0</td>\n",
              "      <td>2</td>\n",
              "      <td>582</td>\n",
              "      <td>2291.91</td>\n",
              "      <td>2291.91</td>\n",
              "      <td>2084.54</td>\n",
              "      <td>1006.54</td>\n",
              "      <td>0.47</td>\n",
              "      <td>0.47</td>\n",
              "      <td>0.47</td>\n",
              "      <td>2143.33</td>\n",
              "      <td>2291.91</td>\n",
              "      <td>1669.79</td>\n",
              "      <td>1</td>\n",
              "      <td>2019-08-06</td>\n",
              "    </tr>\n",
              "    <tr>\n",
              "      <th>4</th>\n",
              "      <td>6</td>\n",
              "      <td>1579</td>\n",
              "      <td>42</td>\n",
              "      <td>Male</td>\n",
              "      <td>2.0</td>\n",
              "      <td>self_employed</td>\n",
              "      <td>1494.0</td>\n",
              "      <td>3</td>\n",
              "      <td>388</td>\n",
              "      <td>927.72</td>\n",
              "      <td>1401.72</td>\n",
              "      <td>1643.31</td>\n",
              "      <td>1871.12</td>\n",
              "      <td>0.33</td>\n",
              "      <td>714.61</td>\n",
              "      <td>588.62</td>\n",
              "      <td>1538.06</td>\n",
              "      <td>1157.15</td>\n",
              "      <td>1677.16</td>\n",
              "      <td>1</td>\n",
              "      <td>2019-11-03</td>\n",
              "    </tr>\n",
              "  </tbody>\n",
              "</table>\n",
              "</div>"
            ],
            "text/plain": [
              "   customer_id  vintage  age  ... previous_month_balance  churn last_transaction\n",
              "0            1     2101   66  ...                1458.71      0       2019-05-21\n",
              "1            2     2348   35  ...                8787.61      0       2019-11-01\n",
              "2            4     2194   31  ...                5070.14      0              NaT\n",
              "3            5     2329   90  ...                1669.79      1       2019-08-06\n",
              "4            6     1579   42  ...                1677.16      1       2019-11-03\n",
              "\n",
              "[5 rows x 21 columns]"
            ]
          },
          "metadata": {
            "tags": []
          },
          "execution_count": 3
        }
      ]
    },
    {
      "cell_type": "code",
      "metadata": {
        "id": "yvosQCsWxHsg",
        "colab_type": "code",
        "colab": {
          "base_uri": "https://localhost:8080/",
          "height": 220
        },
        "outputId": "6558b239-a312-4d19-ce28-4f8c8b9fdc86"
      },
      "source": [
        "#last 5 instances using \"tail()\" function\n",
        "data.tail()"
      ],
      "execution_count": null,
      "outputs": [
        {
          "output_type": "execute_result",
          "data": {
            "text/html": [
              "<div>\n",
              "<style scoped>\n",
              "    .dataframe tbody tr th:only-of-type {\n",
              "        vertical-align: middle;\n",
              "    }\n",
              "\n",
              "    .dataframe tbody tr th {\n",
              "        vertical-align: top;\n",
              "    }\n",
              "\n",
              "    .dataframe thead th {\n",
              "        text-align: right;\n",
              "    }\n",
              "</style>\n",
              "<table border=\"1\" class=\"dataframe\">\n",
              "  <thead>\n",
              "    <tr style=\"text-align: right;\">\n",
              "      <th></th>\n",
              "      <th>customer_id</th>\n",
              "      <th>vintage</th>\n",
              "      <th>age</th>\n",
              "      <th>gender</th>\n",
              "      <th>dependents</th>\n",
              "      <th>occupation</th>\n",
              "      <th>city</th>\n",
              "      <th>customer_nw_category</th>\n",
              "      <th>branch_code</th>\n",
              "      <th>current_balance</th>\n",
              "      <th>previous_month_end_balance</th>\n",
              "      <th>average_monthly_balance_prevQ</th>\n",
              "      <th>average_monthly_balance_prevQ2</th>\n",
              "      <th>current_month_credit</th>\n",
              "      <th>previous_month_credit</th>\n",
              "      <th>current_month_debit</th>\n",
              "      <th>previous_month_debit</th>\n",
              "      <th>current_month_balance</th>\n",
              "      <th>previous_month_balance</th>\n",
              "      <th>churn</th>\n",
              "      <th>last_transaction</th>\n",
              "    </tr>\n",
              "  </thead>\n",
              "  <tbody>\n",
              "    <tr>\n",
              "      <th>28377</th>\n",
              "      <td>30297</td>\n",
              "      <td>2325</td>\n",
              "      <td>10</td>\n",
              "      <td>Female</td>\n",
              "      <td>0.0</td>\n",
              "      <td>student</td>\n",
              "      <td>1020.0</td>\n",
              "      <td>2</td>\n",
              "      <td>1207</td>\n",
              "      <td>1076.43</td>\n",
              "      <td>1076.43</td>\n",
              "      <td>2282.19</td>\n",
              "      <td>2787.70</td>\n",
              "      <td>0.30</td>\n",
              "      <td>0.30</td>\n",
              "      <td>0.30</td>\n",
              "      <td>0.30</td>\n",
              "      <td>1076.43</td>\n",
              "      <td>1076.43</td>\n",
              "      <td>0</td>\n",
              "      <td>2019-10-22</td>\n",
              "    </tr>\n",
              "    <tr>\n",
              "      <th>28378</th>\n",
              "      <td>30298</td>\n",
              "      <td>1537</td>\n",
              "      <td>34</td>\n",
              "      <td>Female</td>\n",
              "      <td>0.0</td>\n",
              "      <td>self_employed</td>\n",
              "      <td>1046.0</td>\n",
              "      <td>2</td>\n",
              "      <td>223</td>\n",
              "      <td>3844.10</td>\n",
              "      <td>4069.21</td>\n",
              "      <td>3668.83</td>\n",
              "      <td>3865.55</td>\n",
              "      <td>1.71</td>\n",
              "      <td>2.29</td>\n",
              "      <td>901.00</td>\n",
              "      <td>1014.07</td>\n",
              "      <td>3738.54</td>\n",
              "      <td>3690.32</td>\n",
              "      <td>0</td>\n",
              "      <td>2019-12-17</td>\n",
              "    </tr>\n",
              "    <tr>\n",
              "      <th>28379</th>\n",
              "      <td>30299</td>\n",
              "      <td>2376</td>\n",
              "      <td>47</td>\n",
              "      <td>Male</td>\n",
              "      <td>0.0</td>\n",
              "      <td>salaried</td>\n",
              "      <td>1096.0</td>\n",
              "      <td>2</td>\n",
              "      <td>588</td>\n",
              "      <td>65511.97</td>\n",
              "      <td>61017.55</td>\n",
              "      <td>53444.81</td>\n",
              "      <td>21925.81</td>\n",
              "      <td>4666.84</td>\n",
              "      <td>3883.06</td>\n",
              "      <td>168.23</td>\n",
              "      <td>71.80</td>\n",
              "      <td>61078.50</td>\n",
              "      <td>57564.24</td>\n",
              "      <td>1</td>\n",
              "      <td>2019-12-31</td>\n",
              "    </tr>\n",
              "    <tr>\n",
              "      <th>28380</th>\n",
              "      <td>30300</td>\n",
              "      <td>1745</td>\n",
              "      <td>50</td>\n",
              "      <td>Male</td>\n",
              "      <td>3.0</td>\n",
              "      <td>self_employed</td>\n",
              "      <td>1219.0</td>\n",
              "      <td>3</td>\n",
              "      <td>274</td>\n",
              "      <td>1625.55</td>\n",
              "      <td>1625.55</td>\n",
              "      <td>1683.20</td>\n",
              "      <td>1857.42</td>\n",
              "      <td>0.20</td>\n",
              "      <td>0.20</td>\n",
              "      <td>0.20</td>\n",
              "      <td>0.20</td>\n",
              "      <td>1625.55</td>\n",
              "      <td>1625.55</td>\n",
              "      <td>0</td>\n",
              "      <td>NaT</td>\n",
              "    </tr>\n",
              "    <tr>\n",
              "      <th>28381</th>\n",
              "      <td>30301</td>\n",
              "      <td>1175</td>\n",
              "      <td>18</td>\n",
              "      <td>Male</td>\n",
              "      <td>0.0</td>\n",
              "      <td>student</td>\n",
              "      <td>1232.0</td>\n",
              "      <td>2</td>\n",
              "      <td>474</td>\n",
              "      <td>2107.05</td>\n",
              "      <td>2821.34</td>\n",
              "      <td>3213.44</td>\n",
              "      <td>4447.45</td>\n",
              "      <td>0.11</td>\n",
              "      <td>7.44</td>\n",
              "      <td>714.40</td>\n",
              "      <td>1094.09</td>\n",
              "      <td>2402.62</td>\n",
              "      <td>3260.58</td>\n",
              "      <td>1</td>\n",
              "      <td>2019-11-02</td>\n",
              "    </tr>\n",
              "  </tbody>\n",
              "</table>\n",
              "</div>"
            ],
            "text/plain": [
              "       customer_id  vintage  ...  churn last_transaction\n",
              "28377        30297     2325  ...      0       2019-10-22\n",
              "28378        30298     1537  ...      0       2019-12-17\n",
              "28379        30299     2376  ...      1       2019-12-31\n",
              "28380        30300     1745  ...      0              NaT\n",
              "28381        30301     1175  ...      1       2019-11-02\n",
              "\n",
              "[5 rows x 21 columns]"
            ]
          },
          "metadata": {
            "tags": []
          },
          "execution_count": 4
        }
      ]
    },
    {
      "cell_type": "code",
      "metadata": {
        "id": "IRZCZfRmxKo6",
        "colab_type": "code",
        "colab": {
          "base_uri": "https://localhost:8080/",
          "height": 35
        },
        "outputId": "067abb99-9f10-463f-d61b-a135ec9f65e9"
      },
      "source": [
        "#finding out the shape of the data using \"shape\" variable: Output (rows, columns)\n",
        "data.shape"
      ],
      "execution_count": null,
      "outputs": [
        {
          "output_type": "execute_result",
          "data": {
            "text/plain": [
              "(28382, 21)"
            ]
          },
          "metadata": {
            "tags": []
          },
          "execution_count": 5
        }
      ]
    },
    {
      "cell_type": "code",
      "metadata": {
        "id": "SuI9JHhtxOaS",
        "colab_type": "code",
        "colab": {
          "base_uri": "https://localhost:8080/",
          "height": 159
        },
        "outputId": "ff9f7e8e-9388-4faf-fc9d-045f9b5001a3"
      },
      "source": [
        "#Printing all the columns present in data\n",
        "data.columns"
      ],
      "execution_count": null,
      "outputs": [
        {
          "output_type": "execute_result",
          "data": {
            "text/plain": [
              "Index(['customer_id', 'vintage', 'age', 'gender', 'dependents', 'occupation',\n",
              "       'city', 'customer_nw_category', 'branch_code', 'current_balance',\n",
              "       'previous_month_end_balance', 'average_monthly_balance_prevQ',\n",
              "       'average_monthly_balance_prevQ2', 'current_month_credit',\n",
              "       'previous_month_credit', 'current_month_debit', 'previous_month_debit',\n",
              "       'current_month_balance', 'previous_month_balance', 'churn',\n",
              "       'last_transaction'],\n",
              "      dtype='object')"
            ]
          },
          "metadata": {
            "tags": []
          },
          "execution_count": 6
        }
      ]
    },
    {
      "cell_type": "markdown",
      "metadata": {
        "id": "f8X3c12Hx3KC",
        "colab_type": "text"
      },
      "source": [
        "# **1.2  Variable Identification and Typecasting**"
      ]
    },
    {
      "cell_type": "code",
      "metadata": {
        "id": "EmD0zN7UxSPA",
        "colab_type": "code",
        "colab": {
          "base_uri": "https://localhost:8080/",
          "height": 408
        },
        "outputId": "8eab6745-d3e6-4ae9-8239-4026a40c971a"
      },
      "source": [
        "# A closer look at the data types present in the data\n",
        "data.dtypes"
      ],
      "execution_count": null,
      "outputs": [
        {
          "output_type": "execute_result",
          "data": {
            "text/plain": [
              "customer_id                         int64\n",
              "vintage                             int64\n",
              "age                                 int64\n",
              "gender                             object\n",
              "dependents                        float64\n",
              "occupation                         object\n",
              "city                              float64\n",
              "customer_nw_category                int64\n",
              "branch_code                         int64\n",
              "current_balance                   float64\n",
              "previous_month_end_balance        float64\n",
              "average_monthly_balance_prevQ     float64\n",
              "average_monthly_balance_prevQ2    float64\n",
              "current_month_credit              float64\n",
              "previous_month_credit             float64\n",
              "current_month_debit               float64\n",
              "previous_month_debit              float64\n",
              "current_month_balance             float64\n",
              "previous_month_balance            float64\n",
              "churn                               int64\n",
              "last_transaction                   object\n",
              "dtype: object"
            ]
          },
          "metadata": {
            "tags": []
          },
          "execution_count": 8
        }
      ]
    },
    {
      "cell_type": "markdown",
      "metadata": {
        "id": "NmSrkN0dyCI_",
        "colab_type": "text"
      },
      "source": [
        "There are a lot of variables visible at one, so let's narrow this down by looking at one datatype at once. We will start with int"
      ]
    },
    {
      "cell_type": "markdown",
      "metadata": {
        "id": "9kIlafmYyGAe",
        "colab_type": "text"
      },
      "source": [
        "# **1.2.1  Integer Data Type**"
      ]
    },
    {
      "cell_type": "code",
      "metadata": {
        "id": "KtgMSRWzxVd-",
        "colab_type": "code",
        "colab": {
          "base_uri": "https://localhost:8080/",
          "height": 141
        },
        "outputId": "591bb416-ffbf-4716-b9ee-9f57ad888fbe"
      },
      "source": [
        "# Identifying variables with integer datatype\n",
        "data.dtypes[data.dtypes == 'int64']"
      ],
      "execution_count": null,
      "outputs": [
        {
          "output_type": "execute_result",
          "data": {
            "text/plain": [
              "customer_id             int64\n",
              "vintage                 int64\n",
              "age                     int64\n",
              "customer_nw_category    int64\n",
              "branch_code             int64\n",
              "churn                   int64\n",
              "dtype: object"
            ]
          },
          "metadata": {
            "tags": []
          },
          "execution_count": 9
        }
      ]
    },
    {
      "cell_type": "markdown",
      "metadata": {
        "id": "yvHK9q2eyNNy",
        "colab_type": "text"
      },
      "source": [
        "Summary:\n",
        "\n",
        "**Customer id** are a unique number assigned to customers. It is are O**kay as Integer.**\n",
        "\n",
        "**branch code** again represents different branches, therefore it should be **convereted to category. **\n",
        "\n",
        "**Age and Vintage** are also numbers and hence we are okay with them as integers.\n",
        "\n",
        "**customer_networth_category** is supposed to be an ordinal category, **should be converted to category.**\n",
        "\n",
        "**churn** : 1 represents the churn and 0 represents not churn. However, there is no comparison between these two categories. This **needs to be converted to category datatype.**\n"
      ]
    },
    {
      "cell_type": "code",
      "metadata": {
        "id": "ZIHwtSOPy_qa",
        "colab_type": "code",
        "colab": {
          "base_uri": "https://localhost:8080/",
          "height": 88
        },
        "outputId": "1269e8e0-1fc7-41ea-8b2d-3f5205dfb53b"
      },
      "source": [
        "# converting churn to category\n",
        "data['churn'] = data['churn'].astype('category')\n",
        "data['branch_code'] = data['branch_code'].astype('category')\n",
        "data['customer_nw_category'] = data['customer_nw_category'].astype('category')\n",
        "data.dtypes[data.dtypes == 'int64']"
      ],
      "execution_count": null,
      "outputs": [
        {
          "output_type": "execute_result",
          "data": {
            "text/plain": [
              "customer_id    int64\n",
              "vintage        int64\n",
              "age            int64\n",
              "dtype: object"
            ]
          },
          "metadata": {
            "tags": []
          },
          "execution_count": 14
        }
      ]
    },
    {
      "cell_type": "markdown",
      "metadata": {
        "id": "NoIJJRW62PfN",
        "colab_type": "text"
      },
      "source": [
        "# **1.2.2  Float Data Type**"
      ]
    },
    {
      "cell_type": "code",
      "metadata": {
        "id": "KKi3Dy-u2SnE",
        "colab_type": "code",
        "colab": {
          "base_uri": "https://localhost:8080/",
          "height": 248
        },
        "outputId": "8e7fbc0f-42f5-45a2-9adb-ad9a271f9c6a"
      },
      "source": [
        "# Identifying variables with float datatype\n",
        "data.dtypes[data.dtypes == 'float64']"
      ],
      "execution_count": null,
      "outputs": [
        {
          "output_type": "execute_result",
          "data": {
            "text/plain": [
              "dependents                        float64\n",
              "city                              float64\n",
              "current_balance                   float64\n",
              "previous_month_end_balance        float64\n",
              "average_monthly_balance_prevQ     float64\n",
              "average_monthly_balance_prevQ2    float64\n",
              "current_month_credit              float64\n",
              "previous_month_credit             float64\n",
              "current_month_debit               float64\n",
              "previous_month_debit              float64\n",
              "current_month_balance             float64\n",
              "previous_month_balance            float64\n",
              "dtype: object"
            ]
          },
          "metadata": {
            "tags": []
          },
          "execution_count": 15
        }
      ]
    },
    {
      "cell_type": "markdown",
      "metadata": {
        "id": "djtT1nJK2dgX",
        "colab_type": "text"
      },
      "source": [
        "Summary:\n",
        "\n",
        "**dependents** is expected to be a whole number. **Should be changed to integer type**\n",
        "\n",
        "**city** variable is also a unique code of a city represented by some interger number. **Should be converted to Category type**\n",
        "\n",
        "Rest of the variables like **credit, balance and debit** are best represented by the float variables."
      ]
    },
    {
      "cell_type": "code",
      "metadata": {
        "id": "qpL6P1x42yjB",
        "colab_type": "code",
        "colab": {
          "base_uri": "https://localhost:8080/",
          "height": 70
        },
        "outputId": "a679c581-74f2-40f6-b065-b9e68d326b80"
      },
      "source": [
        "# converting \"dependents\" and \"city\" to their respective types\n",
        "data['dependents'] = data['dependents'].astype('Int64')\n",
        "data['city'] = data['city'].astype('category')\n",
        "\n",
        "# checking\n",
        "data[['dependents','city']].dtypes"
      ],
      "execution_count": null,
      "outputs": [
        {
          "output_type": "execute_result",
          "data": {
            "text/plain": [
              "dependents       Int64\n",
              "city          category\n",
              "dtype: object"
            ]
          },
          "metadata": {
            "tags": []
          },
          "execution_count": 16
        }
      ]
    },
    {
      "cell_type": "markdown",
      "metadata": {
        "id": "kcdA47Tg3Hpc",
        "colab_type": "text"
      },
      "source": [
        "# **1.2.3  Object Data Type**"
      ]
    },
    {
      "cell_type": "code",
      "metadata": {
        "id": "Tla2t9Fr3KA8",
        "colab_type": "code",
        "colab": {
          "base_uri": "https://localhost:8080/",
          "height": 408
        },
        "outputId": "f4aca32a-50f3-47bc-f851-578ff7bacd6e"
      },
      "source": [
        "data.dtypes"
      ],
      "execution_count": null,
      "outputs": [
        {
          "output_type": "execute_result",
          "data": {
            "text/plain": [
              "customer_id                          int64\n",
              "vintage                              int64\n",
              "age                                  int64\n",
              "gender                              object\n",
              "dependents                           Int64\n",
              "occupation                          object\n",
              "city                              category\n",
              "customer_nw_category              category\n",
              "branch_code                       category\n",
              "current_balance                    float64\n",
              "previous_month_end_balance         float64\n",
              "average_monthly_balance_prevQ      float64\n",
              "average_monthly_balance_prevQ2     float64\n",
              "current_month_credit               float64\n",
              "previous_month_credit              float64\n",
              "current_month_debit                float64\n",
              "previous_month_debit               float64\n",
              "current_month_balance              float64\n",
              "previous_month_balance             float64\n",
              "churn                             category\n",
              "last_transaction                    object\n",
              "dtype: object"
            ]
          },
          "metadata": {
            "tags": []
          },
          "execution_count": 17
        }
      ]
    },
    {
      "cell_type": "markdown",
      "metadata": {
        "id": "3NkiVgcS4C1k",
        "colab_type": "text"
      },
      "source": [
        "**variables like 'gender', 'occupation' and 'last_transaction' are of type object**. This means that** Pandas was not able to recognise the datatype** of these three variables."
      ]
    },
    {
      "cell_type": "code",
      "metadata": {
        "id": "bLyTwdQE4MTz",
        "colab_type": "code",
        "colab": {
          "base_uri": "https://localhost:8080/",
          "height": 261
        },
        "outputId": "a38500d9-61e2-49e2-a8a2-f7107aa8b69c"
      },
      "source": [
        "# Manually checking object types\n",
        "data[['gender','occupation','last_transaction']].head(7)"
      ],
      "execution_count": null,
      "outputs": [
        {
          "output_type": "execute_result",
          "data": {
            "text/html": [
              "<div>\n",
              "<style scoped>\n",
              "    .dataframe tbody tr th:only-of-type {\n",
              "        vertical-align: middle;\n",
              "    }\n",
              "\n",
              "    .dataframe tbody tr th {\n",
              "        vertical-align: top;\n",
              "    }\n",
              "\n",
              "    .dataframe thead th {\n",
              "        text-align: right;\n",
              "    }\n",
              "</style>\n",
              "<table border=\"1\" class=\"dataframe\">\n",
              "  <thead>\n",
              "    <tr style=\"text-align: right;\">\n",
              "      <th></th>\n",
              "      <th>gender</th>\n",
              "      <th>occupation</th>\n",
              "      <th>last_transaction</th>\n",
              "    </tr>\n",
              "  </thead>\n",
              "  <tbody>\n",
              "    <tr>\n",
              "      <th>0</th>\n",
              "      <td>Male</td>\n",
              "      <td>self_employed</td>\n",
              "      <td>2019-05-21</td>\n",
              "    </tr>\n",
              "    <tr>\n",
              "      <th>1</th>\n",
              "      <td>Male</td>\n",
              "      <td>self_employed</td>\n",
              "      <td>2019-11-01</td>\n",
              "    </tr>\n",
              "    <tr>\n",
              "      <th>2</th>\n",
              "      <td>Male</td>\n",
              "      <td>salaried</td>\n",
              "      <td>NaT</td>\n",
              "    </tr>\n",
              "    <tr>\n",
              "      <th>3</th>\n",
              "      <td>NaN</td>\n",
              "      <td>self_employed</td>\n",
              "      <td>2019-08-06</td>\n",
              "    </tr>\n",
              "    <tr>\n",
              "      <th>4</th>\n",
              "      <td>Male</td>\n",
              "      <td>self_employed</td>\n",
              "      <td>2019-11-03</td>\n",
              "    </tr>\n",
              "    <tr>\n",
              "      <th>5</th>\n",
              "      <td>Female</td>\n",
              "      <td>self_employed</td>\n",
              "      <td>2019-11-01</td>\n",
              "    </tr>\n",
              "    <tr>\n",
              "      <th>6</th>\n",
              "      <td>Male</td>\n",
              "      <td>retired</td>\n",
              "      <td>2019-09-24</td>\n",
              "    </tr>\n",
              "  </tbody>\n",
              "</table>\n",
              "</div>"
            ],
            "text/plain": [
              "   gender     occupation last_transaction\n",
              "0    Male  self_employed       2019-05-21\n",
              "1    Male  self_employed       2019-11-01\n",
              "2    Male       salaried              NaT\n",
              "3     NaN  self_employed       2019-08-06\n",
              "4    Male  self_employed       2019-11-03\n",
              "5  Female  self_employed       2019-11-01\n",
              "6    Male        retired       2019-09-24"
            ]
          },
          "metadata": {
            "tags": []
          },
          "execution_count": 18
        }
      ]
    },
    {
      "cell_type": "markdown",
      "metadata": {
        "id": "tSr12p0U4QR0",
        "colab_type": "text"
      },
      "source": [
        "**gender and occupation** variables **belong to categorical data types**.\n",
        "\n",
        "**last_transaction** should be a **datetime variable**."
      ]
    },
    {
      "cell_type": "code",
      "metadata": {
        "id": "dCR0_bew4bRY",
        "colab_type": "code",
        "colab": {
          "base_uri": "https://localhost:8080/",
          "height": 70
        },
        "outputId": "285aeac9-7cfa-4123-ef36-e3f9b2bfe1ae"
      },
      "source": [
        "# typecasting \"gender\" and \"occupation\" to category type\n",
        "data['gender'] = data['gender'].astype('category')\n",
        "data['occupation'] = data['occupation'].astype('category')\n",
        "\n",
        "# checking\n",
        "data[['gender','occupation']].dtypes"
      ],
      "execution_count": null,
      "outputs": [
        {
          "output_type": "execute_result",
          "data": {
            "text/plain": [
              "gender        category\n",
              "occupation    category\n",
              "dtype: object"
            ]
          },
          "metadata": {
            "tags": []
          },
          "execution_count": 19
        }
      ]
    },
    {
      "cell_type": "markdown",
      "metadata": {
        "id": "5HyKvcAL4h83",
        "colab_type": "text"
      },
      "source": [
        "# **1.2.4  datetime Data Type**"
      ]
    },
    {
      "cell_type": "code",
      "metadata": {
        "id": "-78DInvr4eiB",
        "colab_type": "code",
        "colab": {}
      },
      "source": [
        "# creating an instance(date) of DatetimeIndex class using \"last_transaction\"\n",
        "date = pd.DatetimeIndex(data['last_transaction'])"
      ],
      "execution_count": null,
      "outputs": []
    },
    {
      "cell_type": "code",
      "metadata": {
        "id": "rKDV4rB94rEk",
        "colab_type": "code",
        "colab": {}
      },
      "source": [
        "# extracting new columns from \"last_transaction\"\n",
        "\n",
        "# last day of year when transaction was done\n",
        "data['doy_ls_tran'] = date.dayofyear\n",
        "\n",
        "# week of year when last transaction was done\n",
        "data['woy_ls_tran'] = date.weekofyear\n",
        "\n",
        "# month of year when last transaction was done\n",
        "data['moy_ls_tran'] = date.month\n",
        "\n",
        "# day of week when last transaction was done\n",
        "data['dow_ls_tran'] = date.dayofweek"
      ],
      "execution_count": null,
      "outputs": []
    },
    {
      "cell_type": "code",
      "metadata": {
        "id": "gnjxUOlq4v1p",
        "colab_type": "code",
        "colab": {
          "base_uri": "https://localhost:8080/",
          "height": 200
        },
        "outputId": "69c1616a-277d-43d8-f59c-86b240569ce5"
      },
      "source": [
        "# checking new extracted columns using datetime\n",
        "data[['last_transaction','doy_ls_tran','woy_ls_tran','moy_ls_tran','dow_ls_tran']].head()"
      ],
      "execution_count": null,
      "outputs": [
        {
          "output_type": "execute_result",
          "data": {
            "text/html": [
              "<div>\n",
              "<style scoped>\n",
              "    .dataframe tbody tr th:only-of-type {\n",
              "        vertical-align: middle;\n",
              "    }\n",
              "\n",
              "    .dataframe tbody tr th {\n",
              "        vertical-align: top;\n",
              "    }\n",
              "\n",
              "    .dataframe thead th {\n",
              "        text-align: right;\n",
              "    }\n",
              "</style>\n",
              "<table border=\"1\" class=\"dataframe\">\n",
              "  <thead>\n",
              "    <tr style=\"text-align: right;\">\n",
              "      <th></th>\n",
              "      <th>last_transaction</th>\n",
              "      <th>doy_ls_tran</th>\n",
              "      <th>woy_ls_tran</th>\n",
              "      <th>moy_ls_tran</th>\n",
              "      <th>dow_ls_tran</th>\n",
              "    </tr>\n",
              "  </thead>\n",
              "  <tbody>\n",
              "    <tr>\n",
              "      <th>0</th>\n",
              "      <td>2019-05-21</td>\n",
              "      <td>141.0</td>\n",
              "      <td>21.0</td>\n",
              "      <td>5.0</td>\n",
              "      <td>1.0</td>\n",
              "    </tr>\n",
              "    <tr>\n",
              "      <th>1</th>\n",
              "      <td>2019-11-01</td>\n",
              "      <td>305.0</td>\n",
              "      <td>44.0</td>\n",
              "      <td>11.0</td>\n",
              "      <td>4.0</td>\n",
              "    </tr>\n",
              "    <tr>\n",
              "      <th>2</th>\n",
              "      <td>NaT</td>\n",
              "      <td>NaN</td>\n",
              "      <td>NaN</td>\n",
              "      <td>NaN</td>\n",
              "      <td>NaN</td>\n",
              "    </tr>\n",
              "    <tr>\n",
              "      <th>3</th>\n",
              "      <td>2019-08-06</td>\n",
              "      <td>218.0</td>\n",
              "      <td>32.0</td>\n",
              "      <td>8.0</td>\n",
              "      <td>1.0</td>\n",
              "    </tr>\n",
              "    <tr>\n",
              "      <th>4</th>\n",
              "      <td>2019-11-03</td>\n",
              "      <td>307.0</td>\n",
              "      <td>44.0</td>\n",
              "      <td>11.0</td>\n",
              "      <td>6.0</td>\n",
              "    </tr>\n",
              "  </tbody>\n",
              "</table>\n",
              "</div>"
            ],
            "text/plain": [
              "  last_transaction  doy_ls_tran  woy_ls_tran  moy_ls_tran  dow_ls_tran\n",
              "0       2019-05-21        141.0         21.0          5.0          1.0\n",
              "1       2019-11-01        305.0         44.0         11.0          4.0\n",
              "2              NaT          NaN          NaN          NaN          NaN\n",
              "3       2019-08-06        218.0         32.0          8.0          1.0\n",
              "4       2019-11-03        307.0         44.0         11.0          6.0"
            ]
          },
          "metadata": {
            "tags": []
          },
          "execution_count": 22
        }
      ]
    },
    {
      "cell_type": "markdown",
      "metadata": {
        "id": "Ca4wiMz842cV",
        "colab_type": "text"
      },
      "source": [
        "The first column is the complete date of the last transaction which was done by the any given customer.\n",
        "\n",
        "The next columns represent the day of year, week of year, month of year, day of week when the last transaction was done.\n",
        "\n",
        "**Breaking down the date variable** into these granular information will **help us in understand when the last transaction was done from different perspectives**. Now that we have extracted the essentials from the last_transaction variables, we will drop it from the dataset."
      ]
    },
    {
      "cell_type": "code",
      "metadata": {
        "id": "6ZWO0kih5CkH",
        "colab_type": "code",
        "colab": {
          "base_uri": "https://localhost:8080/",
          "height": 461
        },
        "outputId": "74ba634f-d9b2-4225-dd7f-f012d6c79bf1"
      },
      "source": [
        "data = data.drop(columns = ['last_transaction'])\n",
        "data.dtypes"
      ],
      "execution_count": null,
      "outputs": [
        {
          "output_type": "execute_result",
          "data": {
            "text/plain": [
              "customer_id                          int64\n",
              "vintage                              int64\n",
              "age                                  int64\n",
              "gender                            category\n",
              "dependents                           Int64\n",
              "occupation                        category\n",
              "city                              category\n",
              "customer_nw_category              category\n",
              "branch_code                       category\n",
              "current_balance                    float64\n",
              "previous_month_end_balance         float64\n",
              "average_monthly_balance_prevQ      float64\n",
              "average_monthly_balance_prevQ2     float64\n",
              "current_month_credit               float64\n",
              "previous_month_credit              float64\n",
              "current_month_debit                float64\n",
              "previous_month_debit               float64\n",
              "current_month_balance              float64\n",
              "previous_month_balance             float64\n",
              "churn                             category\n",
              "doy_ls_tran                        float64\n",
              "woy_ls_tran                        float64\n",
              "moy_ls_tran                        float64\n",
              "dow_ls_tran                        float64\n",
              "dtype: object"
            ]
          },
          "metadata": {
            "tags": []
          },
          "execution_count": 23
        }
      ]
    }
  ]
}