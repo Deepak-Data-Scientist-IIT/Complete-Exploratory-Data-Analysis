{
  "nbformat": 4,
  "nbformat_minor": 0,
  "metadata": {
    "colab": {
      "name": "Min, Max and Range of Data (Churn Prediction).ipynb",
      "provenance": [],
      "toc_visible": true,
      "authorship_tag": "ABX9TyO16JTtAY00GR+t7BMjZxt4",
      "include_colab_link": true
    },
    "kernelspec": {
      "name": "python3",
      "display_name": "Python 3"
    }
  },
  "cells": [
    {
      "cell_type": "markdown",
      "metadata": {
        "id": "view-in-github",
        "colab_type": "text"
      },
      "source": [
        "<a href=\"https://colab.research.google.com/github/Deepak-Data-Scientist-IIT/Complete-Exploratory-Data-Analysis/blob/master/Min%2C_Max_and_Range_of_Data_(Churn_Prediction).ipynb\" target=\"_parent\"><img src=\"https://colab.research.google.com/assets/colab-badge.svg\" alt=\"Open In Colab\"/></a>"
      ]
    },
    {
      "cell_type": "markdown",
      "metadata": {
        "id": "ZJGb8s-XyFEo",
        "colab_type": "text"
      },
      "source": [
        "# **1  Min, Max and Range of Data**"
      ]
    },
    {
      "cell_type": "code",
      "metadata": {
        "id": "7DZEcvkTyHWb",
        "colab_type": "code",
        "colab": {}
      },
      "source": [
        "#import libraries\n",
        "import pandas as pd\n",
        "import numpy as np"
      ],
      "execution_count": null,
      "outputs": []
    },
    {
      "cell_type": "code",
      "metadata": {
        "id": "aYNA33MdyK6K",
        "colab_type": "code",
        "colab": {}
      },
      "source": [
        "# importing dataset\n",
        "data = pd.read_csv('churn_prediction.csv')"
      ],
      "execution_count": null,
      "outputs": []
    },
    {
      "cell_type": "code",
      "metadata": {
        "id": "NFijYmDvyO6l",
        "colab_type": "code",
        "colab": {
          "base_uri": "https://localhost:8080/",
          "height": 408
        },
        "outputId": "e99ec096-90f3-4994-df76-f7b53ba91ff3"
      },
      "source": [
        "# Identification of Datatypes\n",
        "data.dtypes"
      ],
      "execution_count": null,
      "outputs": [
        {
          "output_type": "execute_result",
          "data": {
            "text/plain": [
              "customer_id                         int64\n",
              "vintage                             int64\n",
              "age                                 int64\n",
              "gender                             object\n",
              "dependents                        float64\n",
              "occupation                         object\n",
              "city                              float64\n",
              "customer_nw_category                int64\n",
              "branch_code                         int64\n",
              "current_balance                   float64\n",
              "previous_month_end_balance        float64\n",
              "average_monthly_balance_prevQ     float64\n",
              "average_monthly_balance_prevQ2    float64\n",
              "current_month_credit              float64\n",
              "previous_month_credit             float64\n",
              "current_month_debit               float64\n",
              "previous_month_debit              float64\n",
              "current_month_balance             float64\n",
              "previous_month_balance            float64\n",
              "churn                               int64\n",
              "last_transaction                   object\n",
              "dtype: object"
            ]
          },
          "metadata": {
            "tags": []
          },
          "execution_count": 3
        }
      ]
    },
    {
      "cell_type": "markdown",
      "metadata": {
        "id": "udp-DWEwybfa",
        "colab_type": "text"
      },
      "source": [
        "# **2  Isolating numerical columns**"
      ]
    },
    {
      "cell_type": "markdown",
      "metadata": {
        "id": "E5VoR1SYygay",
        "colab_type": "text"
      },
      "source": [
        "**Storing indices of Integer and Float in numercial_cols because we are dealing with numerical variables**"
      ]
    },
    {
      "cell_type": "code",
      "metadata": {
        "id": "T9dqF0GhyUkg",
        "colab_type": "code",
        "colab": {
          "base_uri": "https://localhost:8080/",
          "height": 141
        },
        "outputId": "ca9d12bc-25fb-4cee-f789-ec9b70acc5d3"
      },
      "source": [
        "# storing indices of all numerical data types in numerical_cols\n",
        "numerical_cols = data.select_dtypes(include=['int', 'float']).columns\n",
        "\n",
        "# checking\n",
        "numerical_cols"
      ],
      "execution_count": null,
      "outputs": [
        {
          "output_type": "execute_result",
          "data": {
            "text/plain": [
              "Index(['customer_id', 'vintage', 'age', 'dependents', 'city',\n",
              "       'customer_nw_category', 'branch_code', 'current_balance',\n",
              "       'previous_month_end_balance', 'average_monthly_balance_prevQ',\n",
              "       'average_monthly_balance_prevQ2', 'current_month_credit',\n",
              "       'previous_month_credit', 'current_month_debit', 'previous_month_debit',\n",
              "       'current_month_balance', 'previous_month_balance', 'churn'],\n",
              "      dtype='object')"
            ]
          },
          "metadata": {
            "tags": []
          },
          "execution_count": 4
        }
      ]
    },
    {
      "cell_type": "markdown",
      "metadata": {
        "id": "vHXFpdoOyr7W",
        "colab_type": "text"
      },
      "source": [
        "# **2.1  Min obseravtion**"
      ]
    },
    {
      "cell_type": "code",
      "metadata": {
        "id": "En6aexsOypTX",
        "colab_type": "code",
        "colab": {
          "base_uri": "https://localhost:8080/",
          "height": 98
        },
        "outputId": "79d46484-a3a6-43d0-a49e-0acb6b148ee4"
      },
      "source": [
        "# observation with minimum current balance\n",
        "data[data['current_balance'] == data['current_balance'].min()]"
      ],
      "execution_count": null,
      "outputs": [
        {
          "output_type": "execute_result",
          "data": {
            "text/html": [
              "<div>\n",
              "<style scoped>\n",
              "    .dataframe tbody tr th:only-of-type {\n",
              "        vertical-align: middle;\n",
              "    }\n",
              "\n",
              "    .dataframe tbody tr th {\n",
              "        vertical-align: top;\n",
              "    }\n",
              "\n",
              "    .dataframe thead th {\n",
              "        text-align: right;\n",
              "    }\n",
              "</style>\n",
              "<table border=\"1\" class=\"dataframe\">\n",
              "  <thead>\n",
              "    <tr style=\"text-align: right;\">\n",
              "      <th></th>\n",
              "      <th>customer_id</th>\n",
              "      <th>vintage</th>\n",
              "      <th>age</th>\n",
              "      <th>gender</th>\n",
              "      <th>dependents</th>\n",
              "      <th>occupation</th>\n",
              "      <th>city</th>\n",
              "      <th>customer_nw_category</th>\n",
              "      <th>branch_code</th>\n",
              "      <th>current_balance</th>\n",
              "      <th>previous_month_end_balance</th>\n",
              "      <th>average_monthly_balance_prevQ</th>\n",
              "      <th>average_monthly_balance_prevQ2</th>\n",
              "      <th>current_month_credit</th>\n",
              "      <th>previous_month_credit</th>\n",
              "      <th>current_month_debit</th>\n",
              "      <th>previous_month_debit</th>\n",
              "      <th>current_month_balance</th>\n",
              "      <th>previous_month_balance</th>\n",
              "      <th>churn</th>\n",
              "      <th>last_transaction</th>\n",
              "    </tr>\n",
              "  </thead>\n",
              "  <tbody>\n",
              "    <tr>\n",
              "      <th>12608</th>\n",
              "      <td>13467</td>\n",
              "      <td>2140</td>\n",
              "      <td>80</td>\n",
              "      <td>Male</td>\n",
              "      <td>0.0</td>\n",
              "      <td>retired</td>\n",
              "      <td>1096.0</td>\n",
              "      <td>1</td>\n",
              "      <td>27</td>\n",
              "      <td>-5503.96</td>\n",
              "      <td>423.06</td>\n",
              "      <td>1694.57</td>\n",
              "      <td>868.26</td>\n",
              "      <td>9471.01</td>\n",
              "      <td>2680.04</td>\n",
              "      <td>15229.44</td>\n",
              "      <td>7859.37</td>\n",
              "      <td>1050.17</td>\n",
              "      <td>2002.97</td>\n",
              "      <td>1</td>\n",
              "      <td>2019-12-26</td>\n",
              "    </tr>\n",
              "  </tbody>\n",
              "</table>\n",
              "</div>"
            ],
            "text/plain": [
              "       customer_id  vintage  ...  churn last_transaction\n",
              "12608        13467     2140  ...      1       2019-12-26\n",
              "\n",
              "[1 rows x 21 columns]"
            ]
          },
          "metadata": {
            "tags": []
          },
          "execution_count": 5
        }
      ]
    },
    {
      "cell_type": "markdown",
      "metadata": {
        "id": "ntcjQwGfyx7L",
        "colab_type": "text"
      },
      "source": [
        "**Customer's id is 13467**\n",
        "\n",
        "**Customer has minimum current balance is -5503.96**"
      ]
    },
    {
      "cell_type": "markdown",
      "metadata": {
        "id": "UFg6Wcn0y95v",
        "colab_type": "text"
      },
      "source": [
        "# 2.2  Max observation"
      ]
    },
    {
      "cell_type": "code",
      "metadata": {
        "id": "QyuUzBtpy7Lk",
        "colab_type": "code",
        "colab": {
          "base_uri": "https://localhost:8080/",
          "height": 98
        },
        "outputId": "40679bee-dbde-46c3-ae5d-865c5fc3270c"
      },
      "source": [
        "# obseravtion with maxximum current month debit\n",
        "data[data['current_month_debit'] == data['current_month_debit'].max()]"
      ],
      "execution_count": null,
      "outputs": [
        {
          "output_type": "execute_result",
          "data": {
            "text/html": [
              "<div>\n",
              "<style scoped>\n",
              "    .dataframe tbody tr th:only-of-type {\n",
              "        vertical-align: middle;\n",
              "    }\n",
              "\n",
              "    .dataframe tbody tr th {\n",
              "        vertical-align: top;\n",
              "    }\n",
              "\n",
              "    .dataframe thead th {\n",
              "        text-align: right;\n",
              "    }\n",
              "</style>\n",
              "<table border=\"1\" class=\"dataframe\">\n",
              "  <thead>\n",
              "    <tr style=\"text-align: right;\">\n",
              "      <th></th>\n",
              "      <th>customer_id</th>\n",
              "      <th>vintage</th>\n",
              "      <th>age</th>\n",
              "      <th>gender</th>\n",
              "      <th>dependents</th>\n",
              "      <th>occupation</th>\n",
              "      <th>city</th>\n",
              "      <th>customer_nw_category</th>\n",
              "      <th>branch_code</th>\n",
              "      <th>current_balance</th>\n",
              "      <th>previous_month_end_balance</th>\n",
              "      <th>average_monthly_balance_prevQ</th>\n",
              "      <th>average_monthly_balance_prevQ2</th>\n",
              "      <th>current_month_credit</th>\n",
              "      <th>previous_month_credit</th>\n",
              "      <th>current_month_debit</th>\n",
              "      <th>previous_month_debit</th>\n",
              "      <th>current_month_balance</th>\n",
              "      <th>previous_month_balance</th>\n",
              "      <th>churn</th>\n",
              "      <th>last_transaction</th>\n",
              "    </tr>\n",
              "  </thead>\n",
              "  <tbody>\n",
              "    <tr>\n",
              "      <th>24095</th>\n",
              "      <td>25712</td>\n",
              "      <td>1902</td>\n",
              "      <td>90</td>\n",
              "      <td>Male</td>\n",
              "      <td>0.0</td>\n",
              "      <td>retired</td>\n",
              "      <td>1020.0</td>\n",
              "      <td>2</td>\n",
              "      <td>5</td>\n",
              "      <td>46.5</td>\n",
              "      <td>24270.54</td>\n",
              "      <td>11728.39</td>\n",
              "      <td>111617.41</td>\n",
              "      <td>12269845.39</td>\n",
              "      <td>0.21</td>\n",
              "      <td>7637857.36</td>\n",
              "      <td>0.21</td>\n",
              "      <td>8399.62</td>\n",
              "      <td>24270.54</td>\n",
              "      <td>1</td>\n",
              "      <td>2019-12-13</td>\n",
              "    </tr>\n",
              "  </tbody>\n",
              "</table>\n",
              "</div>"
            ],
            "text/plain": [
              "       customer_id  vintage  ...  churn last_transaction\n",
              "24095        25712     1902  ...      1       2019-12-13\n",
              "\n",
              "[1 rows x 21 columns]"
            ]
          },
          "metadata": {
            "tags": []
          },
          "execution_count": 6
        }
      ]
    },
    {
      "cell_type": "markdown",
      "metadata": {
        "id": "NUJ78ljRzJe2",
        "colab_type": "text"
      },
      "source": [
        "**Customer's id is 25712**\n",
        "\n",
        "**Customer has maximum current month debit is 7637857.36**"
      ]
    },
    {
      "cell_type": "markdown",
      "metadata": {
        "id": "lkYcNbYizOup",
        "colab_type": "text"
      },
      "source": [
        "# **2.3  Range**"
      ]
    },
    {
      "cell_type": "markdown",
      "metadata": {
        "id": "suAbQuJ2zbC4",
        "colab_type": "text"
      },
      "source": [
        "**Range of Age in our datase indicating the difference of Age between the oldest and youngest customers**"
      ]
    },
    {
      "cell_type": "code",
      "metadata": {
        "id": "hYvaEkqQzYsY",
        "colab_type": "code",
        "colab": {
          "base_uri": "https://localhost:8080/",
          "height": 35
        },
        "outputId": "e6567118-bf47-468e-e636-b51fbd1c03a5"
      },
      "source": [
        "# Range of Age \n",
        "\n",
        "print(data['age'].min(),  data['age'].max())"
      ],
      "execution_count": null,
      "outputs": [
        {
          "output_type": "stream",
          "text": [
            "1 90\n"
          ],
          "name": "stdout"
        }
      ]
    },
    {
      "cell_type": "markdown",
      "metadata": {
        "id": "6lCeSDNezt4T",
        "colab_type": "text"
      },
      "source": [
        "**Oldest Customer Age is 90**\n",
        "\n",
        "**Youngest Customer Age is 1**\n",
        "\n",
        "**Range is [1,90**"
      ]
    },
    {
      "cell_type": "markdown",
      "metadata": {
        "id": "dGiMFNcRz8q0",
        "colab_type": "text"
      },
      "source": [
        "# **2.4  Max, Min, Range for each column**"
      ]
    },
    {
      "cell_type": "code",
      "metadata": {
        "id": "ztOKnGjXz0bn",
        "colab_type": "code",
        "colab": {
          "base_uri": "https://localhost:8080/",
          "height": 355
        },
        "outputId": "5198c061-2c4c-4898-d195-d735783a5795"
      },
      "source": [
        "# Printing Max of evey numerical column\n",
        "data[numerical_cols].max()"
      ],
      "execution_count": null,
      "outputs": [
        {
          "output_type": "execute_result",
          "data": {
            "text/plain": [
              "customer_id                          30301.00\n",
              "vintage                               2476.00\n",
              "age                                     90.00\n",
              "dependents                              52.00\n",
              "city                                  1649.00\n",
              "customer_nw_category                     3.00\n",
              "branch_code                           4782.00\n",
              "current_balance                    5905904.03\n",
              "previous_month_end_balance         5740438.63\n",
              "average_monthly_balance_prevQ      5700289.57\n",
              "average_monthly_balance_prevQ2     5010170.10\n",
              "current_month_credit              12269845.39\n",
              "previous_month_credit              2361808.29\n",
              "current_month_debit                7637857.36\n",
              "previous_month_debit               1414168.06\n",
              "current_month_balance              5778184.77\n",
              "previous_month_balance             5720144.50\n",
              "churn                                    1.00\n",
              "dtype: float64"
            ]
          },
          "metadata": {
            "tags": []
          },
          "execution_count": 8
        }
      ]
    },
    {
      "cell_type": "markdown",
      "metadata": {
        "id": "SUfzdMp50FBH",
        "colab_type": "text"
      },
      "source": [
        "Maximum value of vintage for a customer is 12899.\n",
        "\n",
        "Maximum age of a customer in our dataset is 90\n",
        "\n",
        "Maximum number of dependents in our dataset is 52\n",
        "\n",
        "Maximum day since last transaction is 365\n",
        "\n",
        "Maximum values for current_balance, previous_month_end_balance,\n",
        "\n",
        "average_monthly_balance_prevQ, current_month_balance, \n",
        "previous_month_balance are close to 57 lakhs.\n",
        "\n",
        "Maximum value for current_month_credit is 12269845.39\n",
        "\n",
        "Maximum value for previous_month_credit is 2361808.29\n",
        "\n",
        "maximum value for current_month_debit and previous_month debit \n",
        "is respectively 7637857.36 and 1414168.06.\n",
        "\n",
        "The features like customer_id, city, customer_nw_category, \n",
        "branch_code, churn are required to be treated as categorcial variable so their maximum value don't represent numerical significance"
      ]
    },
    {
      "cell_type": "code",
      "metadata": {
        "id": "cY0QPJkI0V2a",
        "colab_type": "code",
        "colab": {
          "base_uri": "https://localhost:8080/",
          "height": 355
        },
        "outputId": "41132cea-333a-4427-edf0-3fde92f47cf9"
      },
      "source": [
        "# printing min of every numercial column\n",
        "data[numerical_cols].min()"
      ],
      "execution_count": null,
      "outputs": [
        {
          "output_type": "execute_result",
          "data": {
            "text/plain": [
              "customer_id                           1.00\n",
              "vintage                              73.00\n",
              "age                                   1.00\n",
              "dependents                            0.00\n",
              "city                                  0.00\n",
              "customer_nw_category                  1.00\n",
              "branch_code                           1.00\n",
              "current_balance                   -5503.96\n",
              "previous_month_end_balance        -3149.57\n",
              "average_monthly_balance_prevQ      1428.69\n",
              "average_monthly_balance_prevQ2   -16506.10\n",
              "current_month_credit                  0.01\n",
              "previous_month_credit                 0.01\n",
              "current_month_debit                   0.01\n",
              "previous_month_debit                  0.01\n",
              "current_month_balance             -3374.18\n",
              "previous_month_balance            -5171.92\n",
              "churn                                 0.00\n",
              "dtype: float64"
            ]
          },
          "metadata": {
            "tags": []
          },
          "execution_count": 9
        }
      ]
    },
    {
      "cell_type": "code",
      "metadata": {
        "id": "v2HwV4o90dXO",
        "colab_type": "code",
        "colab": {
          "base_uri": "https://localhost:8080/",
          "height": 337
        },
        "outputId": "3c6ee568-7924-424a-dd29-7c5de2fcf0e0"
      },
      "source": [
        "for col in numerical_cols:\n",
        "    print(\"range of {}{}{}{}{}{}{}{}\".format(col,\":\",\" \",\"[\",data[col].min(), \", \",data[col].max(),\"]\"))"
      ],
      "execution_count": null,
      "outputs": [
        {
          "output_type": "stream",
          "text": [
            "range of customer_id: [1, 30301]\n",
            "range of vintage: [73, 2476]\n",
            "range of age: [1, 90]\n",
            "range of dependents: [0.0, 52.0]\n",
            "range of city: [0.0, 1649.0]\n",
            "range of customer_nw_category: [1, 3]\n",
            "range of branch_code: [1, 4782]\n",
            "range of current_balance: [-5503.96, 5905904.03]\n",
            "range of previous_month_end_balance: [-3149.57, 5740438.63]\n",
            "range of average_monthly_balance_prevQ: [1428.69, 5700289.57]\n",
            "range of average_monthly_balance_prevQ2: [-16506.1, 5010170.1]\n",
            "range of current_month_credit: [0.01, 12269845.39]\n",
            "range of previous_month_credit: [0.01, 2361808.29]\n",
            "range of current_month_debit: [0.01, 7637857.36]\n",
            "range of previous_month_debit: [0.01, 1414168.06]\n",
            "range of current_month_balance: [-3374.18, 5778184.77]\n",
            "range of previous_month_balance: [-5171.92, 5720144.5]\n",
            "range of churn: [0, 1]\n"
          ],
          "name": "stdout"
        }
      ]
    },
    {
      "cell_type": "code",
      "metadata": {
        "id": "hkgcv-H50kXy",
        "colab_type": "code",
        "colab": {}
      },
      "source": [
        ""
      ],
      "execution_count": null,
      "outputs": []
    }
  ]
}